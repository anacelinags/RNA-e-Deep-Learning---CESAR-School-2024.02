{
  "cells": [
    {
      "cell_type": "markdown",
      "metadata": {
        "id": "5yQgzdjbf9RT"
      },
      "source": [
        "# Regressão Linear com NumPy"
      ]
    },
    {
      "cell_type": "markdown",
      "metadata": {
        "heading_collapsed": true,
        "id": "p5HfrYM3f9RU"
      },
      "source": [
        "## Objetivos deste experimento"
      ]
    },
    {
      "cell_type": "markdown",
      "metadata": {
        "hidden": true,
        "id": "IIYC2db7f9RW"
      },
      "source": [
        "Este exemplo utiliza regressão linear para estimar o comprimento das sépalas da íris a partir do seu comprimento das pétalas.\n",
        "Utiliza-se programação totalmente NumPy com:\n",
        "- o **cálculo do gradiente**,\n",
        "- a **função de perda** e\n",
        "- a atualização dos parâmetros são feitos de forma explícita.\n",
        "- A rede é criada com uma camada como uma classe"
      ]
    },
    {
      "cell_type": "markdown",
      "metadata": {
        "hidden": true,
        "id": "ImJOZIiNf9RW"
      },
      "source": [
        "![alt text](https://raw.githubusercontent.com/vcasadei/images/master/RegressaoLinear_Otimizacao.png)"
      ]
    },
    {
      "cell_type": "markdown",
      "metadata": {
        "heading_collapsed": true,
        "id": "EeTHWCuMf9RX"
      },
      "source": [
        "## Importação dos pacotes"
      ]
    },
    {
      "cell_type": "code",
      "execution_count": null,
      "metadata": {
        "ExecuteTime": {
          "end_time": "2017-10-08T11:19:38.728936Z",
          "start_time": "2017-10-08T11:19:36.888541Z"
        },
        "hidden": true,
        "id": "5yPytaCLf9RY"
      },
      "outputs": [],
      "source": [
        "%matplotlib inline\n",
        "import matplotlib.pyplot as plt   # para plotting\n",
        "\n",
        "from sklearn.datasets import load_iris  # para carregar dataset\n",
        "\n",
        "import numpy as np  # processamento matricial\n",
        "\n",
        "np.random.seed(1234)"
      ]
    },
    {
      "cell_type": "markdown",
      "metadata": {
        "heading_collapsed": true,
        "id": "wDkSLSnmf9Rc"
      },
      "source": [
        "## Dataset"
      ]
    },
    {
      "cell_type": "markdown",
      "metadata": {
        "heading_collapsed": true,
        "hidden": true,
        "id": "ldcOnrBvf9Rd"
      },
      "source": [
        "### Leitura dos dados"
      ]
    },
    {
      "cell_type": "code",
      "execution_count": null,
      "metadata": {
        "ExecuteTime": {
          "end_time": "2017-10-08T11:19:38.747769Z",
          "start_time": "2017-10-08T11:19:38.730907Z"
        },
        "colab": {
          "base_uri": "https://localhost:8080/"
        },
        "hidden": true,
        "id": "l3t1qaa0f9Re",
        "outputId": "7c9e5230-8e58-4357-b198-b708b44f0c01"
      },
      "outputs": [
        {
          "output_type": "stream",
          "name": "stdout",
          "text": [
            "x_train.shape: (50, 1) float64\n",
            "y_train.shape: (50, 1) float64\n",
            "x_train[:5]:\n",
            " [[7. ]\n",
            " [6.4]\n",
            " [6.9]\n",
            " [5.5]\n",
            " [6.5]]\n",
            "y_train[:5]:\n",
            " [[4.7]\n",
            " [4.5]\n",
            " [4.9]\n",
            " [4. ]\n",
            " [4.6]]\n"
          ]
        }
      ],
      "source": [
        "iris = load_iris()\n",
        "data = iris.data[iris.target==1,::2]  # comprimento das sépalas e pétalas, indices 0 e 2\n",
        "\n",
        "x_train = data[:,0:1]\n",
        "y_train = data[:,1:2]\n",
        "\n",
        "n_samples = x_train.shape[0]\n",
        "print('x_train.shape:',x_train.shape, x_train.dtype)\n",
        "print('y_train.shape:',y_train.shape, y_train.dtype)\n",
        "\n",
        "print('x_train[:5]:\\n', x_train[:5])\n",
        "print('y_train[:5]:\\n', y_train[:5])"
      ]
    },
    {
      "cell_type": "markdown",
      "metadata": {
        "hidden": true,
        "id": "aPQ-L6FVf9Rk"
      },
      "source": [
        "### Normalização dos dados"
      ]
    },
    {
      "cell_type": "code",
      "execution_count": null,
      "metadata": {
        "ExecuteTime": {
          "end_time": "2017-10-08T11:19:38.756343Z",
          "start_time": "2017-10-08T11:19:38.750395Z"
        },
        "hidden": true,
        "id": "POM323GEf9Rl"
      },
      "outputs": [],
      "source": [
        "x_train -= x_train.min()\n",
        "x_train /= x_train.max()\n",
        "y_train -= y_train.min()\n",
        "y_train /= y_train.max()"
      ]
    },
    {
      "cell_type": "code",
      "execution_count": null,
      "metadata": {
        "ExecuteTime": {
          "end_time": "2017-10-08T11:19:39.127199Z",
          "start_time": "2017-10-08T11:19:38.759104Z"
        },
        "colab": {
          "base_uri": "https://localhost:8080/",
          "height": 466
        },
        "hidden": true,
        "id": "dx5AO9Qxf9Rn",
        "outputId": "4b44dd43-d917-41f0-ce6c-c09197867bb2"
      },
      "outputs": [
        {
          "output_type": "execute_result",
          "data": {
            "text/plain": [
              "Text(0, 0.5, 'Comprimento petalas')"
            ]
          },
          "metadata": {},
          "execution_count": 4
        },
        {
          "output_type": "display_data",
          "data": {
            "text/plain": [
              "<Figure size 640x480 with 1 Axes>"
            ],
            "image/png": "[encoded data removed]"
          },
          "metadata": {}
        }
      ],
      "source": [
        "plt.scatter(x_train,y_train)\n",
        "plt.xlabel('Comprimento sepalas')\n",
        "plt.ylabel('Comprimento petalas')"
      ]
    },
    {
      "cell_type": "markdown",
      "metadata": {
        "heading_collapsed": true,
        "id": "poW81teqf9Rr"
      },
      "source": [
        "## Modelo da rede"
      ]
    },
    {
      "cell_type": "markdown",
      "metadata": {
        "hidden": true,
        "id": "QXFLlJ0_f9Rt"
      },
      "source": [
        "### Reta de ajuste"
      ]
    },
    {
      "cell_type": "markdown",
      "metadata": {
        "hidden": true,
        "id": "s7JuPXysf9Rt"
      },
      "source": [
        "A equação da reta no plano necessita de dois parâmetros, aqui denominados $w_0$ (*bias*) e inclinação $w_1$. Veja figura:\n",
        "\n",
        "![alt text](https://raw.githubusercontent.com/vcasadei/images/master/linhareta.png)\n",
        "\n",
        "A reta de ajuste será dada por:\n",
        "\n",
        "$$ \\hat{y} = w_0 + w_1 x $$\n",
        "\n",
        "onde\n",
        "* $w_1$ é o coeficiente angular da reta e\n",
        "* $w_0$ é a interseção do eixo vertical quando x é igual a zero, também denominado de *bias*.\n",
        "* $x$ é a variável de entrada (comprimento das sépalas) e\n",
        "* $\\hat{y}$ é a predição (comprimento estimado das pétalas)."
      ]
    },
    {
      "cell_type": "markdown",
      "metadata": {
        "hidden": true,
        "id": "hwin_xPff9Ru"
      },
      "source": [
        "### Linear Regression Model"
      ]
    },
    {
      "cell_type": "markdown",
      "metadata": {
        "hidden": true,
        "id": "c7ilOLnkf9Rw"
      },
      "source": [
        "![alt text](https://raw.githubusercontent.com/vcasadei/images/master/RegressaoLinearNeuronio.png)"
      ]
    },
    {
      "cell_type": "markdown",
      "metadata": {
        "hidden": true,
        "id": "H0CzMB91f9Rx"
      },
      "source": [
        "### Formulação matricial do neurônio"
      ]
    },
    {
      "cell_type": "markdown",
      "metadata": {
        "hidden": true,
        "id": "-wWz_wpYf9Ry"
      },
      "source": [
        "* $\\mathbf{w} = [w_0 \\ w_1]$ é vetor linha de parâmetros e\n",
        "* $\\mathbf{x} = [1 \\ x_0] $ é vetor linha de uma amostra (com *bias*).\n",
        "\n",
        "$$ \\hat{y} = 1 w_0 + x_0 w_1 $$\n",
        "\n",
        "$$ [\\hat{y}] = [1 \\ x_0] \\begin{bmatrix} w_0 \\\\ w_1 \\end{bmatrix} $$\n",
        "\n",
        "$$ \\mathbf{\\hat{y}} = \\mathbf{x} \\mathbf{w^T} $$"
      ]
    },
    {
      "cell_type": "markdown",
      "metadata": {
        "hidden": true,
        "id": "rQ1lc-dYf9Rz"
      },
      "source": [
        "### Fazendo o predict de várias amostras"
      ]
    },
    {
      "cell_type": "markdown",
      "metadata": {
        "hidden": true,
        "id": "fh068Clrf9R0"
      },
      "source": [
        "$$ \\begin{matrix}\n",
        "\\begin{bmatrix}\n",
        "\\hat{y}_0\\\\\n",
        "\\hat{y}_1\\\\\n",
        "\\\\\n",
        "\\hat{y}_{M-1}\n",
        "\\end{bmatrix} &=& \\begin{bmatrix}\n",
        "1 & x_0 \\\\\n",
        "1 & x_1\\\\\n",
        "\\\\\n",
        "1 & x_{M-1} \\\\\n",
        "\\end{bmatrix}\n",
        "&\n",
        "\\begin{bmatrix}\n",
        "w_0\\\\\n",
        "w_1\n",
        "\\end{bmatrix} \\\\\n",
        "(M,1) & & (M,2) & (2,1) \\\\\n",
        "\\end{matrix} $$"
      ]
    },
    {
      "cell_type": "markdown",
      "metadata": {
        "hidden": true,
        "id": "jjSchAsZf9R2"
      },
      "source": [
        "### Preenchendo x com coluna de 1's para bias"
      ]
    },
    {
      "cell_type": "code",
      "source": [
        "x_train"
      ],
      "metadata": {
        "colab": {
          "base_uri": "https://localhost:8080/"
        },
        "id": "P0jzVnPiTMhg",
        "outputId": "ec88a44f-d475-4259-97c5-82649d95bd00"
      },
      "execution_count": null,
      "outputs": [
        {
          "output_type": "execute_result",
          "data": {
            "text/plain": [
              "array([[1.        ],\n",
              "       [0.71428571],\n",
              "       [0.95238095],\n",
              "       [0.28571429],\n",
              "       [0.76190476],\n",
              "       [0.38095238],\n",
              "       [0.66666667],\n",
              "       [0.        ],\n",
              "       [0.80952381],\n",
              "       [0.14285714],\n",
              "       [0.04761905],\n",
              "       [0.47619048],\n",
              "       [0.52380952],\n",
              "       [0.57142857],\n",
              "       [0.33333333],\n",
              "       [0.85714286],\n",
              "       [0.33333333],\n",
              "       [0.42857143],\n",
              "       [0.61904762],\n",
              "       [0.33333333],\n",
              "       [0.47619048],\n",
              "       [0.57142857],\n",
              "       [0.66666667],\n",
              "       [0.57142857],\n",
              "       [0.71428571],\n",
              "       [0.80952381],\n",
              "       [0.9047619 ],\n",
              "       [0.85714286],\n",
              "       [0.52380952],\n",
              "       [0.38095238],\n",
              "       [0.28571429],\n",
              "       [0.28571429],\n",
              "       [0.42857143],\n",
              "       [0.52380952],\n",
              "       [0.23809524],\n",
              "       [0.52380952],\n",
              "       [0.85714286],\n",
              "       [0.66666667],\n",
              "       [0.33333333],\n",
              "       [0.28571429],\n",
              "       [0.28571429],\n",
              "       [0.57142857],\n",
              "       [0.42857143],\n",
              "       [0.04761905],\n",
              "       [0.33333333],\n",
              "       [0.38095238],\n",
              "       [0.38095238],\n",
              "       [0.61904762],\n",
              "       [0.0952381 ],\n",
              "       [0.38095238]])"
            ]
          },
          "metadata": {},
          "execution_count": 5
        }
      ]
    },
    {
      "cell_type": "code",
      "source": [
        "np.ones(shape=(n_samples,1))"
      ],
      "metadata": {
        "colab": {
          "base_uri": "https://localhost:8080/"
        },
        "id": "VLMQR6xWTWBV",
        "outputId": "c2c3334a-3afd-4c9a-f43f-f6a076d81b1b"
      },
      "execution_count": null,
      "outputs": [
        {
          "output_type": "execute_result",
          "data": {
            "text/plain": [
              "array([[1.],\n",
              "       [1.],\n",
              "       [1.],\n",
              "       [1.],\n",
              "       [1.],\n",
              "       [1.],\n",
              "       [1.],\n",
              "       [1.],\n",
              "       [1.],\n",
              "       [1.],\n",
              "       [1.],\n",
              "       [1.],\n",
              "       [1.],\n",
              "       [1.],\n",
              "       [1.],\n",
              "       [1.],\n",
              "       [1.],\n",
              "       [1.],\n",
              "       [1.],\n",
              "       [1.],\n",
              "       [1.],\n",
              "       [1.],\n",
              "       [1.],\n",
              "       [1.],\n",
              "       [1.],\n",
              "       [1.],\n",
              "       [1.],\n",
              "       [1.],\n",
              "       [1.],\n",
              "       [1.],\n",
              "       [1.],\n",
              "       [1.],\n",
              "       [1.],\n",
              "       [1.],\n",
              "       [1.],\n",
              "       [1.],\n",
              "       [1.],\n",
              "       [1.],\n",
              "       [1.],\n",
              "       [1.],\n",
              "       [1.],\n",
              "       [1.],\n",
              "       [1.],\n",
              "       [1.],\n",
              "       [1.],\n",
              "       [1.],\n",
              "       [1.],\n",
              "       [1.],\n",
              "       [1.],\n",
              "       [1.]])"
            ]
          },
          "metadata": {},
          "execution_count": 6
        }
      ]
    },
    {
      "cell_type": "code",
      "execution_count": null,
      "metadata": {
        "ExecuteTime": {
          "end_time": "2017-10-08T11:19:39.135089Z",
          "start_time": "2017-10-08T11:19:39.129385Z"
        },
        "hidden": true,
        "id": "plZEY5-tf9R2"
      },
      "outputs": [],
      "source": [
        "x_train_bias = np.hstack([np.ones(shape=(n_samples,1)), x_train])"
      ]
    },
    {
      "cell_type": "code",
      "execution_count": null,
      "metadata": {
        "colab": {
          "base_uri": "https://localhost:8080/"
        },
        "id": "tXYx3JdMf9R6",
        "outputId": "a7b09709-b929-4344-bc8b-0696fa3abb1c"
      },
      "outputs": [
        {
          "output_type": "execute_result",
          "data": {
            "text/plain": [
              "array([[1.        , 1.        ],\n",
              "       [1.        , 0.71428571],\n",
              "       [1.        , 0.95238095],\n",
              "       [1.        , 0.28571429],\n",
              "       [1.        , 0.76190476],\n",
              "       [1.        , 0.38095238],\n",
              "       [1.        , 0.66666667],\n",
              "       [1.        , 0.        ],\n",
              "       [1.        , 0.80952381],\n",
              "       [1.        , 0.14285714],\n",
              "       [1.        , 0.04761905],\n",
              "       [1.        , 0.47619048],\n",
              "       [1.        , 0.52380952],\n",
              "       [1.        , 0.57142857],\n",
              "       [1.        , 0.33333333],\n",
              "       [1.        , 0.85714286],\n",
              "       [1.        , 0.33333333],\n",
              "       [1.        , 0.42857143],\n",
              "       [1.        , 0.61904762],\n",
              "       [1.        , 0.33333333],\n",
              "       [1.        , 0.47619048],\n",
              "       [1.        , 0.57142857],\n",
              "       [1.        , 0.66666667],\n",
              "       [1.        , 0.57142857],\n",
              "       [1.        , 0.71428571],\n",
              "       [1.        , 0.80952381],\n",
              "       [1.        , 0.9047619 ],\n",
              "       [1.        , 0.85714286],\n",
              "       [1.        , 0.52380952],\n",
              "       [1.        , 0.38095238],\n",
              "       [1.        , 0.28571429],\n",
              "       [1.        , 0.28571429],\n",
              "       [1.        , 0.42857143],\n",
              "       [1.        , 0.52380952],\n",
              "       [1.        , 0.23809524],\n",
              "       [1.        , 0.52380952],\n",
              "       [1.        , 0.85714286],\n",
              "       [1.        , 0.66666667],\n",
              "       [1.        , 0.33333333],\n",
              "       [1.        , 0.28571429],\n",
              "       [1.        , 0.28571429],\n",
              "       [1.        , 0.57142857],\n",
              "       [1.        , 0.42857143],\n",
              "       [1.        , 0.04761905],\n",
              "       [1.        , 0.33333333],\n",
              "       [1.        , 0.38095238],\n",
              "       [1.        , 0.38095238],\n",
              "       [1.        , 0.61904762],\n",
              "       [1.        , 0.0952381 ],\n",
              "       [1.        , 0.38095238]])"
            ]
          },
          "metadata": {},
          "execution_count": 8
        }
      ],
      "source": [
        "x_train_bias"
      ]
    },
    {
      "cell_type": "markdown",
      "metadata": {
        "hidden": true,
        "id": "GOtS_8OSf9SC"
      },
      "source": [
        "### Classe com o modelo da rede"
      ]
    },
    {
      "cell_type": "code",
      "source": [
        "np.random.uniform(-0.1,0.1,(1,2))"
      ],
      "metadata": {
        "colab": {
          "base_uri": "https://localhost:8080/"
        },
        "id": "vSaE-w2jT5M8",
        "outputId": "c7b5e89f-80f9-4415-bd01-1fb44f052dd1"
      },
      "execution_count": null,
      "outputs": [
        {
          "output_type": "execute_result",
          "data": {
            "text/plain": [
              "array([[0.03669259, 0.04254041]])"
            ]
          },
          "metadata": {},
          "execution_count": 15
        }
      ]
    },
    {
      "cell_type": "code",
      "execution_count": null,
      "metadata": {
        "ExecuteTime": {
          "end_time": "2017-10-08T11:19:39.143879Z",
          "start_time": "2017-10-08T11:19:39.137134Z"
        },
        "hidden": true,
        "id": "aKLVIQUtf9SD"
      },
      "outputs": [],
      "source": [
        "class Net():\n",
        "    def __init__(self, n_in, n_out):\n",
        "        # self.w = np.random.uniform(-0.1,0.1,(n_out,n_in)) #inicialização dos parâmetros\n",
        "        # self.w = [0,0]\n",
        "        self.w = np.zeros(shape=(n_out,n_in))\n",
        "\n",
        "    def forward(self, x_bias):\n",
        "        return x_bias.dot(self.w.T)"
      ]
    },
    {
      "cell_type": "markdown",
      "metadata": {
        "hidden": true,
        "id": "0j0hN9l_f9SH"
      },
      "source": [
        "### Criando a rede, instanciando o objeto model"
      ]
    },
    {
      "cell_type": "code",
      "execution_count": null,
      "metadata": {
        "ExecuteTime": {
          "end_time": "2017-10-08T11:19:39.151717Z",
          "start_time": "2017-10-08T11:19:39.146858Z"
        },
        "hidden": true,
        "id": "5o5Zkqn5f9SI"
      },
      "outputs": [],
      "source": [
        "model = Net(2,1) # duas entradas (1 + x0) e uma saída y_pred"
      ]
    },
    {
      "cell_type": "code",
      "source": [
        "model.w"
      ],
      "metadata": {
        "colab": {
          "base_uri": "https://localhost:8080/"
        },
        "id": "nnciaECiUaok",
        "outputId": "4affa62b-cd1f-43ed-9611-4bd026aea63f"
      },
      "execution_count": null,
      "outputs": [
        {
          "output_type": "execute_result",
          "data": {
            "text/plain": [
              "array([[0., 0.]])"
            ]
          },
          "metadata": {},
          "execution_count": 39
        }
      ]
    },
    {
      "cell_type": "markdown",
      "metadata": {
        "hidden": true,
        "id": "F3yolUOGf9SL"
      },
      "source": [
        "### Testando o predict da rede (mesmo sem treiná-la)"
      ]
    },
    {
      "cell_type": "code",
      "execution_count": null,
      "metadata": {
        "ExecuteTime": {
          "end_time": "2017-10-08T11:19:39.162189Z",
          "start_time": "2017-10-08T11:19:39.156018Z"
        },
        "colab": {
          "base_uri": "https://localhost:8080/"
        },
        "hidden": true,
        "id": "BzkEurfof9SN",
        "outputId": "2595a5fe-faa1-4d5d-8790-3b34ea776cc7"
      },
      "outputs": [
        {
          "output_type": "execute_result",
          "data": {
            "text/plain": [
              "array([[ 0.00869518],\n",
              "       [-0.00698319],\n",
              "       [-0.0532168 ],\n",
              "       [-0.00276992]])"
            ]
          },
          "metadata": {},
          "execution_count": 19
        }
      ],
      "source": [
        "xin = np.random.randn(4,2) # 4 amostras, 2 entradas (1 + x0)\n",
        "\n",
        "ypred = model.forward(xin)\n",
        "ypred"
      ]
    },
    {
      "cell_type": "code",
      "source": [
        "ypred = model.forward(x_train_bias)\n",
        "ypred"
      ],
      "metadata": {
        "colab": {
          "base_uri": "https://localhost:8080/"
        },
        "id": "Mrnrq5flUogW",
        "outputId": "45604518-c4e3-49d1-c080-f2ae35739b80"
      },
      "execution_count": null,
      "outputs": [
        {
          "output_type": "execute_result",
          "data": {
            "text/plain": [
              "array([[0.00971614],\n",
              "       [0.01559028],\n",
              "       [0.01069517],\n",
              "       [0.02440149],\n",
              "       [0.01461126],\n",
              "       [0.02244344],\n",
              "       [0.01656931],\n",
              "       [0.03027563],\n",
              "       [0.01363224],\n",
              "       [0.02733856],\n",
              "       [0.02929661],\n",
              "       [0.0204854 ],\n",
              "       [0.01950637],\n",
              "       [0.01852735],\n",
              "       [0.02342247],\n",
              "       [0.01265321],\n",
              "       [0.02342247],\n",
              "       [0.02146442],\n",
              "       [0.01754833],\n",
              "       [0.02342247],\n",
              "       [0.0204854 ],\n",
              "       [0.01852735],\n",
              "       [0.01656931],\n",
              "       [0.01852735],\n",
              "       [0.01559028],\n",
              "       [0.01363224],\n",
              "       [0.01167419],\n",
              "       [0.01265321],\n",
              "       [0.01950637],\n",
              "       [0.02244344],\n",
              "       [0.02440149],\n",
              "       [0.02440149],\n",
              "       [0.02146442],\n",
              "       [0.01950637],\n",
              "       [0.02538051],\n",
              "       [0.01950637],\n",
              "       [0.01265321],\n",
              "       [0.01656931],\n",
              "       [0.02342247],\n",
              "       [0.02440149],\n",
              "       [0.02440149],\n",
              "       [0.01852735],\n",
              "       [0.02146442],\n",
              "       [0.02929661],\n",
              "       [0.02342247],\n",
              "       [0.02244344],\n",
              "       [0.02244344],\n",
              "       [0.01754833],\n",
              "       [0.02831758],\n",
              "       [0.02244344]])"
            ]
          },
          "metadata": {},
          "execution_count": 25
        }
      ]
    },
    {
      "cell_type": "markdown",
      "metadata": {
        "heading_collapsed": true,
        "id": "edoSiy--f9SS"
      },
      "source": [
        "## Treinamento via gradiente descendente"
      ]
    },
    {
      "cell_type": "markdown",
      "metadata": {
        "hidden": true,
        "id": "SnkXXFref9ST"
      },
      "source": [
        "Função de perda:\n",
        "$$ J(\\hat{y_i},y_i) = \\frac{1}{M} \\sum_{i=0}^{M-1} (\\hat{y_i} - y_i)^2 $$"
      ]
    },
    {
      "cell_type": "markdown",
      "metadata": {
        "ExecuteTime": {
          "end_time": "2017-10-05T14:05:06.244776",
          "start_time": "2017-10-05T14:05:06.240743"
        },
        "hidden": true,
        "id": "6W5QcPwUf9SU"
      },
      "source": [
        "Gradiente:\n",
        "$$  \\mathbf{\\nabla{J_w}} = \\frac{2}{M}\\mathbf{x^T}(\\mathbf{x w^T} - \\mathbf{y}) $$"
      ]
    },
    {
      "cell_type": "markdown",
      "metadata": {
        "ExecuteTime": {
          "end_time": "2017-10-05T14:06:17.929718",
          "start_time": "2017-10-05T14:06:17.925519"
        },
        "hidden": true,
        "id": "6OoQuuvAf9SU"
      },
      "source": [
        "Atualização dos parâmetros pelo gradiente descendente:\n",
        "$$ \\mathbf{w} = \\mathbf{w} − \\eta (\\mathbf{\\nabla J_w})^T $$"
      ]
    },
    {
      "cell_type": "markdown",
      "metadata": {
        "hidden": true,
        "id": "YM0fEnAdf9SW"
      },
      "source": [
        "### Laço de treinamento"
      ]
    },
    {
      "cell_type": "code",
      "source": [
        "model = Net(2,1)"
      ],
      "metadata": {
        "id": "FZK7DmDOa-M7"
      },
      "execution_count": null,
      "outputs": []
    },
    {
      "cell_type": "code",
      "execution_count": null,
      "metadata": {
        "ExecuteTime": {
          "end_time": "2017-10-08T11:19:39.183784Z",
          "start_time": "2017-10-08T11:19:39.165347Z"
        },
        "colab": {
          "base_uri": "https://localhost:8080/"
        },
        "hidden": true,
        "id": "BiCGgqp6f9SX",
        "outputId": "4cc92c06-6cd8-4352-9cd1-62be7d7c932e",
        "scrolled": false
      },
      "outputs": [
        {
          "output_type": "stream",
          "name": "stdout",
          "text": [
            "Epoch[1/100], loss: 0.409070\n",
            "Epoch[2/100], loss: 0.055997\n",
            "Epoch[3/100], loss: 0.032085\n",
            "Epoch[4/100], loss: 0.029729\n",
            "Epoch[5/100], loss: 0.028853\n",
            "Epoch[6/100], loss: 0.028139\n",
            "Epoch[7/100], loss: 0.027497\n",
            "Epoch[8/100], loss: 0.026914\n",
            "Epoch[9/100], loss: 0.026385\n",
            "Epoch[10/100], loss: 0.025905\n",
            "Epoch[11/100], loss: 0.025469\n",
            "Epoch[12/100], loss: 0.025073\n",
            "Epoch[13/100], loss: 0.024713\n",
            "Epoch[14/100], loss: 0.024387\n",
            "Epoch[15/100], loss: 0.024090\n",
            "Epoch[16/100], loss: 0.023821\n",
            "Epoch[17/100], loss: 0.023577\n",
            "Epoch[18/100], loss: 0.023355\n",
            "Epoch[19/100], loss: 0.023154\n",
            "Epoch[20/100], loss: 0.022971\n",
            "Epoch[21/100], loss: 0.022805\n",
            "Epoch[22/100], loss: 0.022655\n",
            "Epoch[23/100], loss: 0.022518\n",
            "Epoch[24/100], loss: 0.022394\n",
            "Epoch[25/100], loss: 0.022281\n",
            "Epoch[26/100], loss: 0.022179\n",
            "Epoch[27/100], loss: 0.022086\n",
            "Epoch[28/100], loss: 0.022001\n",
            "Epoch[29/100], loss: 0.021925\n",
            "Epoch[30/100], loss: 0.021855\n",
            "Epoch[31/100], loss: 0.021792\n",
            "Epoch[32/100], loss: 0.021735\n",
            "Epoch[33/100], loss: 0.021683\n",
            "Epoch[34/100], loss: 0.021635\n",
            "Epoch[35/100], loss: 0.021592\n",
            "Epoch[36/100], loss: 0.021553\n",
            "Epoch[37/100], loss: 0.021518\n",
            "Epoch[38/100], loss: 0.021486\n",
            "Epoch[39/100], loss: 0.021457\n",
            "Epoch[40/100], loss: 0.021430\n",
            "Epoch[41/100], loss: 0.021406\n",
            "Epoch[42/100], loss: 0.021385\n",
            "Epoch[43/100], loss: 0.021365\n",
            "Epoch[44/100], loss: 0.021347\n",
            "Epoch[45/100], loss: 0.021330\n",
            "Epoch[46/100], loss: 0.021316\n",
            "Epoch[47/100], loss: 0.021302\n",
            "Epoch[48/100], loss: 0.021290\n",
            "Epoch[49/100], loss: 0.021279\n",
            "Epoch[50/100], loss: 0.021269\n",
            "Epoch[51/100], loss: 0.021260\n",
            "Epoch[52/100], loss: 0.021251\n",
            "Epoch[53/100], loss: 0.021244\n",
            "Epoch[54/100], loss: 0.021237\n",
            "Epoch[55/100], loss: 0.021231\n",
            "Epoch[56/100], loss: 0.021225\n",
            "Epoch[57/100], loss: 0.021220\n",
            "Epoch[58/100], loss: 0.021215\n",
            "Epoch[59/100], loss: 0.021211\n",
            "Epoch[60/100], loss: 0.021207\n",
            "Epoch[61/100], loss: 0.021204\n",
            "Epoch[62/100], loss: 0.021201\n",
            "Epoch[63/100], loss: 0.021198\n",
            "Epoch[64/100], loss: 0.021195\n",
            "Epoch[65/100], loss: 0.021193\n",
            "Epoch[66/100], loss: 0.021191\n",
            "Epoch[67/100], loss: 0.021189\n",
            "Epoch[68/100], loss: 0.021187\n",
            "Epoch[69/100], loss: 0.021185\n",
            "Epoch[70/100], loss: 0.021184\n",
            "Epoch[71/100], loss: 0.021182\n",
            "Epoch[72/100], loss: 0.021181\n",
            "Epoch[73/100], loss: 0.021180\n",
            "Epoch[74/100], loss: 0.021179\n",
            "Epoch[75/100], loss: 0.021178\n",
            "Epoch[76/100], loss: 0.021177\n",
            "Epoch[77/100], loss: 0.021177\n",
            "Epoch[78/100], loss: 0.021176\n",
            "Epoch[79/100], loss: 0.021175\n",
            "Epoch[80/100], loss: 0.021175\n",
            "Epoch[81/100], loss: 0.021174\n",
            "Epoch[82/100], loss: 0.021174\n",
            "Epoch[83/100], loss: 0.021174\n",
            "Epoch[84/100], loss: 0.021173\n",
            "Epoch[85/100], loss: 0.021173\n",
            "Epoch[86/100], loss: 0.021172\n",
            "Epoch[87/100], loss: 0.021172\n",
            "Epoch[88/100], loss: 0.021172\n",
            "Epoch[89/100], loss: 0.021172\n",
            "Epoch[90/100], loss: 0.021172\n",
            "Epoch[91/100], loss: 0.021171\n",
            "Epoch[92/100], loss: 0.021171\n",
            "Epoch[93/100], loss: 0.021171\n",
            "Epoch[94/100], loss: 0.021171\n",
            "Epoch[95/100], loss: 0.021171\n",
            "Epoch[96/100], loss: 0.021171\n",
            "Epoch[97/100], loss: 0.021170\n",
            "Epoch[98/100], loss: 0.021170\n",
            "Epoch[99/100], loss: 0.021170\n",
            "Epoch[100/100], loss: 0.021170\n",
            "[np.float64(0.40907029478458073), np.float64(0.055996896921850954), np.float64(0.03208510964229652), np.float64(0.029729022417886997), np.float64(0.028852572923422762), np.float64(0.028139219574590292), np.float64(0.027496939128278833), np.float64(0.026914162161041023), np.float64(0.026385080756316008), np.float64(0.025904728268334974), np.float64(0.02546861545841654), np.float64(0.025072667842559123), np.float64(0.024713186274322237), np.float64(0.024386812297399828), np.float64(0.024090496763497008), np.float64(0.023821471345292552), np.float64(0.02357722267332166), np.float64(0.023355468854824826), np.float64(0.023154138155168917), np.float64(0.022971349642670235), np.float64(0.022805395615993804), np.float64(0.022654725649956867), np.float64(0.02251793211068447), np.float64(0.022393737004792684), np.float64(0.02228098003973782), np.float64(0.022178607783785446), np.float64(0.022085663824326463), np.float64(0.022001279832594034), np.float64(0.02192466745130379), np.float64(0.02185511092942731), np.float64(0.021791960435289477), np.float64(0.021734625985517342), np.float64(0.021682571933121512), np.float64(0.021635311963215168), np.float64(0.021592404549618145), np.float64(0.021553448829899444), np.float64(0.021518080860320702), np.float64(0.02148597021569251), np.float64(0.02145681690237768), np.float64(0.0214303485556013), np.float64(0.021406317894883276), np.float64(0.02138450041382094), np.float64(0.021364692282638428), np.float64(0.021346708443907327), np.float64(0.02133038088364806), np.float64(0.02131555706165953), np.float64(0.02130209848641264), np.float64(0.021289879421193404), np.float64(0.021278785709407933), np.float64(0.021268713708074705), np.float64(0.021259569319540157), np.float64(0.02125126711237157), np.float64(0.02124372952321405), np.float64(0.021236886132155047), np.float64(0.021230673004826423), np.float64(0.02122503209509778), np.float64(0.02121991070278056), np.float64(0.021215260981276653), np.float64(0.02121103949057163), np.float64(0.02120720679139651), np.float64(0.021203727076766446), np.float64(0.021200567837454023), np.float64(0.021197699558271898), np.float64(0.021195095442327207), np.float64(0.021192731160671604), np.float64(0.021190584625008176), np.float64(0.021188635781331507), np.float64(0.021186866422573204), np.float64(0.021185260018502402), np.float64(0.02118380156129206), np.float64(0.02118247742530845), np.float64(0.021181275239813623), np.float64(0.021180183773391845), np.float64(0.021179192829020123), np.float64(0.02117829314880252), np.float64(0.0211774763274783), np.float64(0.021176734733895763), np.float64(0.021176061439718265), np.float64(0.02117545015469621), np.float64(0.021174895167900432), np.float64(0.021174391294367833), np.float64(0.02117393382666087), np.float64(0.021173518490888374), np.float64(0.02117314140677664), np.float64(0.021172799051418077), np.float64(0.02117248822635839), np.float64(0.021172206027715038), np.float64(0.021171949819047728), np.float64(0.02117171720672747), np.float64(0.021171506017574095), np.float64(0.02117131427855333), np.float64(0.021171140198343742), np.float64(0.021170982150601293), np.float64(0.021170838658765245), np.float64(0.02117070838226339), np.float64(0.021170590103987755), np.float64(0.021170482718923776), np.float64(0.021170385223826686), np.float64(0.02117029670784873), np.float64(0.021170216344029543)]\n"
          ]
        }
      ],
      "source": [
        "num_epochs = 100\n",
        "learning_rate = 0.5\n",
        "losses = []\n",
        "for epoch in range(num_epochs):\n",
        "\n",
        "    # forward - predict\n",
        "    y_pred = model.forward(x_train_bias)\n",
        "\n",
        "    #loss cálculo da função de perda\n",
        "    loss = np.square(y_pred - y_train).mean()\n",
        "\n",
        "    # cálculo do gradiente pelas derivadas parciais\n",
        "    w_grad = (2.0/n_samples) * (x_train_bias.T).dot(x_train_bias.dot(model.w.T) - y_train)\n",
        "\n",
        "    # gradiente descendente\n",
        "    model.w = model.w - learning_rate * w_grad.T\n",
        "\n",
        "    losses.append(loss)\n",
        "\n",
        "    # verbose\n",
        "    if (epoch+1) % 1 == 0:\n",
        "        print('Epoch[{}/{}], loss: {:.6f}'\n",
        "              .format(epoch+1, num_epochs, loss))\n",
        "print(losses)"
      ]
    },
    {
      "cell_type": "code",
      "source": [
        "model.w"
      ],
      "metadata": {
        "colab": {
          "base_uri": "https://localhost:8080/"
        },
        "id": "ODxxm1pPW_no",
        "outputId": "f5edad86-2abb-4355-b631-0105b31dee1d"
      },
      "execution_count": null,
      "outputs": [
        {
          "output_type": "execute_result",
          "data": {
            "text/plain": [
              "array([[0.2632552 , 0.68277375]])"
            ]
          },
          "metadata": {},
          "execution_count": 28
        }
      ]
    },
    {
      "cell_type": "markdown",
      "metadata": {
        "heading_collapsed": true,
        "id": "1QGlDZABf9Sd"
      },
      "source": [
        "## Avaliação"
      ]
    },
    {
      "cell_type": "markdown",
      "metadata": {
        "hidden": true,
        "id": "6TIimlCmf9Si"
      },
      "source": [
        "### Predict"
      ]
    },
    {
      "cell_type": "code",
      "execution_count": null,
      "metadata": {
        "ExecuteTime": {
          "end_time": "2017-10-08T11:19:39.408412Z",
          "start_time": "2017-10-08T11:19:39.186021Z"
        },
        "colab": {
          "base_uri": "https://localhost:8080/",
          "height": 447
        },
        "hidden": true,
        "id": "ToXwbrlsf9Sk",
        "outputId": "0cb33aec-c14b-4ce1-b714-630bdb6194ac"
      },
      "outputs": [
        {
          "output_type": "execute_result",
          "data": {
            "text/plain": [
              "[<matplotlib.lines.Line2D at 0x7f647fa1dad0>]"
            ]
          },
          "metadata": {},
          "execution_count": 32
        },
        {
          "output_type": "display_data",
          "data": {
            "text/plain": [
              "<Figure size 640x480 with 1 Axes>"
            ],
            "image/png": "[encoded data removed]"
          },
          "metadata": {}
        }
      ],
      "source": [
        "y_pred = model.forward(x_train_bias)\n",
        "plt.plot(x_train, y_train, 'ro', label='Original data')\n",
        "plt.plot(x_train, y_pred, 'kx-', label='Fitting Line')"
      ]
    },
    {
      "cell_type": "markdown",
      "metadata": {
        "hidden": true,
        "id": "kQ1hGdItf9So"
      },
      "source": [
        "### Parâmetros treinados"
      ]
    },
    {
      "cell_type": "code",
      "execution_count": null,
      "metadata": {
        "ExecuteTime": {
          "end_time": "2017-10-08T11:19:39.417569Z",
          "start_time": "2017-10-08T11:19:39.411060Z"
        },
        "colab": {
          "base_uri": "https://localhost:8080/"
        },
        "hidden": true,
        "id": "IcEOxTg9f9Sp",
        "outputId": "bc92c20b-0101-4c62-bc2d-e1dd2ebc1ee3"
      },
      "outputs": [
        {
          "output_type": "stream",
          "name": "stdout",
          "text": [
            "[[0.2632552  0.68277375]]\n"
          ]
        }
      ],
      "source": [
        "print(model.w)"
      ]
    },
    {
      "cell_type": "markdown",
      "metadata": {
        "hidden": true,
        "id": "73n0qSOMf9Sr"
      },
      "source": [
        "### Avaliação do modelo"
      ]
    },
    {
      "cell_type": "code",
      "execution_count": null,
      "metadata": {
        "colab": {
          "base_uri": "https://localhost:8080/"
        },
        "hidden": true,
        "id": "dI2TE8W6f9Ss",
        "outputId": "c3be578f-f567-44aa-b9ac-4a4fa8999f29"
      },
      "outputs": [
        {
          "output_type": "execute_result",
          "data": {
            "text/plain": [
              "np.float64(0.021170241062770972)"
            ]
          },
          "metadata": {},
          "execution_count": 34
        }
      ],
      "source": [
        "loss = np.square(y_pred - y_train).mean()\n",
        "loss"
      ]
    },
    {
      "cell_type": "markdown",
      "metadata": {
        "hidden": true,
        "id": "cv6q3ElSf9Sv"
      },
      "source": [
        "### Valor ótimo, solução analítica"
      ]
    },
    {
      "cell_type": "markdown",
      "metadata": {
        "hidden": true,
        "id": "qYgHOaNmf9Sv"
      },
      "source": [
        "$$  \\mathbf{w} =(\\mathbf{x^T} \\mathbf{x})^{−1}\\mathbf{x^T} \\mathbf{y} $$"
      ]
    },
    {
      "cell_type": "code",
      "execution_count": null,
      "metadata": {
        "ExecuteTime": {
          "end_time": "2017-10-08T11:19:39.432480Z",
          "start_time": "2017-10-08T11:19:39.420006Z"
        },
        "colab": {
          "base_uri": "https://localhost:8080/"
        },
        "hidden": true,
        "id": "OmrggYvmf9Sw",
        "outputId": "d839bcea-658a-403a-a475-1f1d240c138d"
      },
      "outputs": [
        {
          "output_type": "stream",
          "name": "stdout",
          "text": [
            "[[0.26134159 0.68646976]]\n"
          ]
        }
      ],
      "source": [
        "x = x_train_bias\n",
        "y = y_train\n",
        "w_opt = (np.linalg.inv((x.T).dot(x)).dot(x.T)).dot(y)\n",
        "print(w_opt.T)"
      ]
    },
    {
      "cell_type": "code",
      "source": [
        "print(model.w)"
      ],
      "metadata": {
        "colab": {
          "base_uri": "https://localhost:8080/"
        },
        "id": "FrF5DExdX477",
        "outputId": "57d9b63f-2c53-48ef-91d5-0b7a4d3bf698"
      },
      "execution_count": null,
      "outputs": [
        {
          "output_type": "stream",
          "name": "stdout",
          "text": [
            "[[0.2632552  0.68277375]]\n"
          ]
        }
      ]
    },
    {
      "cell_type": "markdown",
      "metadata": {
        "heading_collapsed": true,
        "id": "2eMOcW8Ff9Sz"
      },
      "source": [
        "# Exercícios"
      ]
    },
    {
      "cell_type": "markdown",
      "metadata": {
        "hidden": true,
        "id": "tCKeOB1-f9S1"
      },
      "source": [
        "## Questões"
      ]
    },
    {
      "cell_type": "markdown",
      "metadata": {
        "hidden": true,
        "id": "c-KyP13vf9S2"
      },
      "source": [
        "1. Quantos parâmetros são treinados nesse modelo?\n",
        "R.: 2 parâmetros (w0 e w1)\n",
        "\n",
        "2. Qual é o número de atributos de entrada para a rede?\n",
        "R.: 1, X. Com Bias é 2\n",
        "\n",
        "3. Qual é o número de saídas da rede?\n",
        "R.: 1, Y\n",
        "\n",
        "4. Suponha que eu tenha agora 5 mil amostras para fazer a predição. Qual é o shape da matriz de entrada? R.: [5000, 2]\n",
        "   Qual é o shape do matriz de saída? [5000, 1]\n"
      ]
    },
    {
      "cell_type": "markdown",
      "metadata": {
        "hidden": true,
        "id": "oaj0t2gpf9S3"
      },
      "source": [
        "## Atividades"
      ]
    },
    {
      "cell_type": "markdown",
      "metadata": {
        "hidden": true,
        "id": "pR_fNYurf9S3"
      },
      "source": [
        "1. Modifique o laço do treinamento via gradiente descendente para guardar em uma lista, o valor da perda no final\n",
        "   de cada época. Após o treinamento, plote o valor da perda em função da época.\n",
        "2. Calcule o valor da perda (MSE) da rede com os parâmetros inicializados, sem serem treinados.\n",
        "3. Coloque os valores dos pesos da solução ótima analítica no modelo da rede e calcule o valor da perda (MSE) e\n",
        "   compare com o valor da perda obtida pelo método da otimização via gradiente descendente."
      ]
    },
    {
      "cell_type": "code",
      "source": [
        "#1\n",
        "num_epochs = 100\n",
        "learning_rate = 0.5\n",
        "losses = []\n",
        "for epoch in range(num_epochs):\n",
        "\n",
        "    # forward - predict\n",
        "    y_pred = model.forward(x_train_bias)\n",
        "\n",
        "    #loss cálculo da função de perda\n",
        "    loss = np.square(y_pred - y_train).mean()\n",
        "\n",
        "    # cálculo do gradiente pelas derivadas parciais\n",
        "    w_grad = (2.0/n_samples) * (x_train_bias.T).dot(x_train_bias.dot(model.w.T) - y_train)\n",
        "\n",
        "    # gradiente descendente\n",
        "    model.w = model.w - learning_rate * w_grad.T\n",
        "\n",
        "    losses.append(loss)\n",
        "\n",
        "    # verbose\n",
        "    if (epoch+1) % 1 == 0:\n",
        "        print('Epoch[{}/{}], loss: {:.6f}'\n",
        "              .format(epoch+1, num_epochs, loss))\n",
        "print(losses)"
      ],
      "metadata": {
        "id": "pIX0M28XZ4MX"
      },
      "execution_count": null,
      "outputs": []
    },
    {
      "cell_type": "code",
      "source": [
        "2.\n",
        "model = Net(2,1)\n",
        "print(model.w)\n",
        "y_pred = model.forward(x_train_bias)\n",
        "print(y_pred)\n",
        "loss = np.square(y_pred - y_train).mean()\n",
        "print(loss)"
      ],
      "metadata": {
        "colab": {
          "base_uri": "https://localhost:8080/"
        },
        "id": "H8KBtl18Z_JK",
        "outputId": "de988073-8819-47b9-cc95-b5e6ce8cbf91"
      },
      "execution_count": null,
      "outputs": [
        {
          "output_type": "stream",
          "name": "stdout",
          "text": [
            "[[0. 0.]]\n",
            "[[0.]\n",
            " [0.]\n",
            " [0.]\n",
            " [0.]\n",
            " [0.]\n",
            " [0.]\n",
            " [0.]\n",
            " [0.]\n",
            " [0.]\n",
            " [0.]\n",
            " [0.]\n",
            " [0.]\n",
            " [0.]\n",
            " [0.]\n",
            " [0.]\n",
            " [0.]\n",
            " [0.]\n",
            " [0.]\n",
            " [0.]\n",
            " [0.]\n",
            " [0.]\n",
            " [0.]\n",
            " [0.]\n",
            " [0.]\n",
            " [0.]\n",
            " [0.]\n",
            " [0.]\n",
            " [0.]\n",
            " [0.]\n",
            " [0.]\n",
            " [0.]\n",
            " [0.]\n",
            " [0.]\n",
            " [0.]\n",
            " [0.]\n",
            " [0.]\n",
            " [0.]\n",
            " [0.]\n",
            " [0.]\n",
            " [0.]\n",
            " [0.]\n",
            " [0.]\n",
            " [0.]\n",
            " [0.]\n",
            " [0.]\n",
            " [0.]\n",
            " [0.]\n",
            " [0.]\n",
            " [0.]\n",
            " [0.]]\n",
            "0.40907029478458073\n"
          ]
        }
      ]
    },
    {
      "cell_type": "code",
      "source": [
        "3.\n",
        "#Solução gradiente\n",
        "model = Net(2,1)\n",
        "num_epochs = 100\n",
        "learning_rate = 0.5\n",
        "for epoch in range(num_epochs):\n",
        "\n",
        "    # forward - predict\n",
        "    y_pred = model.forward(x_train_bias)\n",
        "\n",
        "    #loss cálculo da função de perda\n",
        "    loss = np.square(y_pred - y_train).mean()\n",
        "\n",
        "    # cálculo do gradiente pelas derivadas parciais\n",
        "    w_grad = (2.0/n_samples) * (x_train_bias.T).dot(x_train_bias.dot(model.w.T) - y_train)\n",
        "\n",
        "    # gradiente descendente\n",
        "    model.w = model.w - learning_rate * w_grad.T\n",
        "print(f\"Valores Solução Gradiente:\\n w: {model.w} | perda: {loss}\")\n",
        "\n",
        "#Solução ótima\n",
        "x = x_train_bias\n",
        "y = y_train\n",
        "w_opt = (np.linalg.inv((x.T).dot(x)).dot(x.T)).dot(y)\n",
        "model.w = w_opt.T\n",
        "# forward - predict\n",
        "y_pred = model.forward(x_train_bias)\n",
        "\n",
        "#loss cálculo da função de perda\n",
        "loss = np.square(y_pred - y_train).mean()\n",
        "\n",
        "print(f\"Valores Solução Ótima:\\n w: {model.w} | perda: {loss}\")"
      ],
      "metadata": {
        "colab": {
          "base_uri": "https://localhost:8080/"
        },
        "id": "vi4rzo4tbHOz",
        "outputId": "a1200961-95cd-4d53-87be-537fdee6abfe"
      },
      "execution_count": null,
      "outputs": [
        {
          "output_type": "stream",
          "name": "stdout",
          "text": [
            "Valores Solução Gradiente:\n",
            " w: [[0.26313715 0.68300175]] | perda: 0.021170216344029543\n",
            "Valores Solução Ótima:\n",
            " w: [[0.26134159 0.68646976]] | perda: 0.021169424119097165\n"
          ]
        }
      ]
    },
    {
      "cell_type": "markdown",
      "metadata": {
        "collapsed": true,
        "id": "tgmMhSm2f9S4"
      },
      "source": [
        "# Aprendizados"
      ]
    }
  ],
  "metadata": {
    "accelerator": "TPU",
    "colab": {
      "provenance": [],
      "gpuType": "V28",
      "toc_visible": true
    },
    "kernelspec": {
      "display_name": "Python 3.10.2 64-bit",
      "language": "python",
      "name": "python3"
    },
    "language_info": {
      "name": "python",
      "version": "3.10.2"
    },
    "vscode": {
      "interpreter": {
        "hash": "5fe3e6f0cdaab8afdc61c52912fda83f7c0a71baaea1897dd7498e2df01e69ec"
      }
    }
  },
  "nbformat": 4,
  "nbformat_minor": 0
}